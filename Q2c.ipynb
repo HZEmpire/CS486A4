{
 "cells": [
  {
   "cell_type": "code",
   "execution_count": 21,
   "metadata": {},
   "outputs": [],
   "source": [
    "import numpy as np\n",
    "import pandas as pd\n",
    "import matplotlib.pyplot as plt\n",
    "\n",
    "from neural_net import NeuralNetwork\n",
    "from operations import *\n",
    "from sklearn.utils import shuffle"
   ]
  },
  {
   "cell_type": "code",
   "execution_count": 22,
   "metadata": {},
   "outputs": [],
   "source": [
    "def load_dataset(csv_path, target_feature):\n",
    "    dataset = pd.read_csv(csv_path)\n",
    "    t = np.expand_dims(dataset[target_feature].to_numpy().astype(np.float64), axis=1)\n",
    "    X = dataset.drop([target_feature], axis=1).to_numpy()\n",
    "    return X, t"
   ]
  },
  {
   "cell_type": "code",
   "execution_count": 23,
   "metadata": {},
   "outputs": [],
   "source": [
    "X, y = load_dataset(\"./data/wine_quality.csv\", \"quality\")\n",
    "\n",
    "# Split the data by K-fold with K=5\n",
    "k_fold = 5\n",
    "#np.random.seed(486)\n",
    "trainXs = X\n",
    "trainYs = y\n",
    "trainXs, trainYs = shuffle(trainXs, trainYs)\n",
    "size = X.shape[0] // k_fold\n",
    "Train = []\n",
    "Valid = []\n",
    "\n",
    "for k in range(k_fold):\n",
    "    X_train = np.concatenate((trainXs[0:k*size], trainXs[(k+1)*size:]))\n",
    "    y_train = np.concatenate((trainYs[0:k*size], trainYs[(k+1)*size:]))\n",
    "    X_valid = trainXs[k*size:(k+1)*size]\n",
    "    y_valid = trainYs[k*size:(k+1)*size]\n",
    "\n",
    "    Train.append((X_train, y_train))\n",
    "    Valid.append((X_valid, y_valid))"
   ]
  },
  {
   "cell_type": "code",
   "execution_count": 24,
   "metadata": {},
   "outputs": [
    {
     "name": "stdout",
     "output_type": "stream",
     "text": [
      "(1599, 11)\n",
      "(319, 11)\n",
      "(319, 1)\n"
     ]
    }
   ],
   "source": [
    "print(X.shape)\n",
    "print(Valid[2][0].shape)\n",
    "print(Valid[2][1].shape)"
   ]
  },
  {
   "cell_type": "code",
   "execution_count": 25,
   "metadata": {},
   "outputs": [],
   "source": [
    "losses = []\n",
    "mean_absolute_errors = []\n",
    "epochs = 1000\n",
    "\n",
    "for k in range(k_fold):\n",
    "    X_train = Train[k][0]\n",
    "    y_train = Train[k][1]\n",
    "    X_valid = Valid[k][0]\n",
    "    y_valid = Valid[k][1]\n",
    "    loss = []\n",
    "    mse_s = []\n",
    "\n",
    "    n_features = X_train.shape[1]\n",
    "    net = NeuralNetwork(n_features, [16,32,64,32,1], [ReLU(), ReLU(), ReLU(), ReLU(), Identity()], MeanSquaredError(), learning_rate=0.001)\n",
    "\n",
    "    # Train the network, use loss as output\n",
    "    for epoch in range(epochs):\n",
    "        trained_W, epoch_losses = net.train(X_train, y_train, 1)\n",
    "        loss.append(epoch_losses)\n",
    "         # Forward the validation set to get the output\n",
    "        y_predict = net.forward_pass(X_valid)[1][-1]\n",
    "        # Evaluate the network on the test set, use  mean absolute error as output\n",
    "        mse_s.append(net.evaluate(X_valid, y_valid, mean_absolute_error))\n",
    "\n",
    "    losses.append(loss)\n",
    "    mean_absolute_errors.append(mse_s)"
   ]
  },
  {
   "cell_type": "code",
   "execution_count": 26,
   "metadata": {},
   "outputs": [
    {
     "data": {
      "image/png": "[encoded data removed]",
      "text/plain": [
       "<Figure size 640x480 with 1 Axes>"
      ]
     },
     "metadata": {},
     "output_type": "display_data"
    }
   ],
   "source": [
    "# Plot the average loss over epochs for all folds\n",
    "avg_loss = np.mean(losses, axis=0)\n",
    "plt.plot(range(epochs), avg_loss)\n",
    "plt.xlabel(\"Epochs\")\n",
    "plt.ylabel(\"Average Loss\")\n",
    "plt.title(\"Average Loss over Epochs(Mean Squared Error)\")\n",
    "plt.show()"
   ]
  },
  {
   "cell_type": "code",
   "execution_count": 28,
   "metadata": {},
   "outputs": [
    {
     "name": "stdout",
     "output_type": "stream",
     "text": [
      "Average mean absolute error on fold 0 is 0.7456629698432168\n",
      "Standard deviation of mean absolute error on fold 0 is 0.3682537467061085\n",
      "Average mean absolute error on fold 1 is 0.6113000038133006\n",
      "Standard deviation of mean absolute error on fold 1 is 0.2634553357863461\n",
      "Average mean absolute error on fold 2 is 0.7051821498927334\n",
      "Standard deviation of mean absolute error on fold 2 is 0.28696174135181857\n",
      "Average mean absolute error on fold 3 is 0.6992176884571599\n",
      "Standard deviation of mean absolute error on fold 3 is 0.35654040027130557\n",
      "Average mean absolute error on fold 4 is 0.6753454150592174\n",
      "Standard deviation of mean absolute error on fold 4 is 0.3280438191096058\n"
     ]
    }
   ],
   "source": [
    "# Calculate the average mean_absolute_errors and standard deviation of mean_absolute_errors\n",
    "for i in range(k_fold):\n",
    "    mean_mse = np.mean(mean_absolute_errors[i])\n",
    "    std_mse = np.std(mean_absolute_errors[i])\n",
    "    print(\"Average mean absolute error on fold {} is {}\".format(i, mean_mse))\n",
    "    print(\"Standard deviation of mean absolute error on fold {} is {}\".format(i, std_mse))"
   ]
  },
  {
   "cell_type": "code",
   "execution_count": 29,
   "metadata": {},
   "outputs": [
    {
     "name": "stdout",
     "output_type": "stream",
     "text": [
      "Average mean absolute error on all folds is 0.6873416454131257\n",
      "Standard deviation of mean absolute error on all folds is 0.326155583389382\n"
     ]
    }
   ],
   "source": [
    "# Calculate the total average mean_absolute_errors and standard deviation of mean_absolute_errors\n",
    "mean_mse = np.mean(mean_absolute_errors)\n",
    "std_mse = np.std(mean_absolute_errors)\n",
    "print(\"Average mean absolute error on all folds is {}\".format(mean_mse))\n",
    "print(\"Standard deviation of mean absolute error on all folds is {}\".format(std_mse))"
   ]
  },
  {
   "cell_type": "code",
   "execution_count": 30,
   "metadata": {},
   "outputs": [
    {
     "name": "stdout",
     "output_type": "stream",
     "text": [
      "Mean absolute error on fold 0 is 0.5651440448892995\n",
      "Mean absolute error on fold 1 is 0.5383369162880031\n",
      "Mean absolute error on fold 2 is 0.5768974526767434\n",
      "Mean absolute error on fold 3 is 0.5475342847880513\n",
      "Mean absolute error on fold 4 is 0.5456723906643546\n",
      "Mean absolute error on all folds is 0.5547170178612904\n",
      "Standard deviation of mean absolute error on all folds is 0.014159090679344883\n"
     ]
    }
   ],
   "source": [
    "# Print the mean_absolute_errors for each fold(The last epoch)\n",
    "for i in range(k_fold):\n",
    "    print(\"Mean absolute error on fold {} is {}\".format(i, mean_absolute_errors[i][-1]))\n",
    "\n",
    "# Calculate the average mean_absolute_errors and standard deviation of mean_absolute_errors(The last epoch)\n",
    "l = []\n",
    "for i in range(k_fold):\n",
    "    l.append(mean_absolute_errors[i][-1])\n",
    "mean_mse = np.mean(l)\n",
    "std_mse = np.std(l)\n",
    "print(\"Mean absolute error on all folds is {}\".format(mean_mse))\n",
    "print(\"Standard deviation of mean absolute error on all folds is {}\".format(std_mse))"
   ]
  }
 ],
 "metadata": {
  "kernelspec": {
   "display_name": "Python 3",
   "language": "python",
   "name": "python3"
  },
  "language_info": {
   "codemirror_mode": {
    "name": "ipython",
    "version": 3
   },
   "file_extension": ".py",
   "mimetype": "text/x-python",
   "name": "python",
   "nbconvert_exporter": "python",
   "pygments_lexer": "ipython3",
   "version": "3.8.10"
  },
  "orig_nbformat": 4,
  "vscode": {
   "interpreter": {
    "hash": "aee8b7b246df8f9039afb4144a1f6fd8d2ca17a180786b69acc140d282b71a49"
   }
  }
 },
 "nbformat": 4,
 "nbformat_minor": 2
}
