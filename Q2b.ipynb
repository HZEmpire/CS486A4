{
 "cells": [
  {
   "cell_type": "code",
   "execution_count": 1,
   "metadata": {},
   "outputs": [],
   "source": [
    "import numpy as np\n",
    "import pandas as pd\n",
    "import matplotlib.pyplot as plt\n",
    "\n",
    "from neural_net import NeuralNetwork\n",
    "from operations import *\n",
    "from sklearn.utils import shuffle"
   ]
  },
  {
   "cell_type": "code",
   "execution_count": 2,
   "metadata": {},
   "outputs": [],
   "source": [
    "def load_dataset(csv_path, target_feature):\n",
    "    dataset = pd.read_csv(csv_path)\n",
    "    t = np.expand_dims(dataset[target_feature].to_numpy().astype(np.float64), axis=1)\n",
    "    X = dataset.drop([target_feature], axis=1).to_numpy()\n",
    "    return X, t"
   ]
  },
  {
   "cell_type": "code",
   "execution_count": 3,
   "metadata": {},
   "outputs": [],
   "source": [
    "X, y = load_dataset(\"./data/banknote_authentication.csv\", \"target\")\n",
    "\n",
    "# Split the data by K-fold with K=5\n",
    "k_fold = 5\n",
    "#np.random.seed(486)\n",
    "trainXs = X\n",
    "trainYs = y\n",
    "trainXs, trainYs = shuffle(trainXs, trainYs)\n",
    "size = X.shape[0] // k_fold\n",
    "Train = []\n",
    "Valid = []\n",
    "\n",
    "for k in range(k_fold):\n",
    "    X_train = np.concatenate((trainXs[0:k*size], trainXs[(k+1)*size:]))\n",
    "    y_train = np.concatenate((trainYs[0:k*size], trainYs[(k+1)*size:]))\n",
    "    X_valid = trainXs[k*size:(k+1)*size]\n",
    "    y_valid = trainYs[k*size:(k+1)*size]\n",
    "\n",
    "    Train.append((X_train, y_train))\n",
    "    Valid.append((X_valid, y_valid))"
   ]
  },
  {
   "cell_type": "code",
   "execution_count": 4,
   "metadata": {},
   "outputs": [
    {
     "name": "stdout",
     "output_type": "stream",
     "text": [
      "(1372, 4)\n",
      "(274, 4)\n",
      "(274, 1)\n"
     ]
    }
   ],
   "source": [
    "print(X.shape)\n",
    "print(Valid[2][0].shape)\n",
    "print(Valid[2][1].shape)"
   ]
  },
  {
   "cell_type": "code",
   "execution_count": 5,
   "metadata": {},
   "outputs": [
    {
     "name": "stdout",
     "output_type": "stream",
     "text": [
      "123.0\n",
      "121.0\n",
      "120.0\n",
      "131.0\n",
      "115.0\n"
     ]
    }
   ],
   "source": [
    "# count how many 1s in each validation set\n",
    "for i in range(k_fold):\n",
    "    print(np.sum(Valid[i][1]))"
   ]
  },
  {
   "cell_type": "code",
   "execution_count": 6,
   "metadata": {},
   "outputs": [
    {
     "name": "stdout",
     "output_type": "stream",
     "text": [
      "Accuracy on test set: 0.9963503649635036\n",
      "Standard deviation of accuracy on validation set: 0.0603018673060522\n",
      "Accuracy on test set: 1.0\n",
      "Standard deviation of accuracy on validation set: 0.0\n",
      "Accuracy on test set: 1.0\n",
      "Standard deviation of accuracy on validation set: 0.0\n",
      "Accuracy on test set: 0.9963503649635036\n",
      "Standard deviation of accuracy on validation set: 0.060301867306052206\n",
      "Accuracy on test set: 1.0\n",
      "Standard deviation of accuracy on validation set: 0.0\n"
     ]
    }
   ],
   "source": [
    "losses = []\n",
    "accuracies = []\n",
    "accuracies_std = []\n",
    "epochs = 1000\n",
    "valid_results = []\n",
    "\n",
    "for k in range(k_fold):\n",
    "    X_train = Train[k][0]\n",
    "    y_train = Train[k][1]\n",
    "    X_valid = Valid[k][0]\n",
    "    y_valid = Valid[k][1]\n",
    "\n",
    "    n_features = X_train.shape[1]\n",
    "    net = NeuralNetwork(n_features, [32,32,16,1], [ReLU(), ReLU(), ReLU(), Sigmoid()], CrossEntropy(), learning_rate=0.01)\n",
    "\n",
    "    # Train the network, use loss as output\n",
    "    trained_W, epoch_losses = net.train(X_train, y_train, epochs)\n",
    "    losses.append(epoch_losses)\n",
    "\n",
    "    # Forward the validation set to get the output\n",
    "    Y_predict = net.forward_pass(X_valid)[1][-1]\n",
    "    valid_results.append(Y_predict)\n",
    "\n",
    "    # Evaluate the network on the test set, use accuracy as output\n",
    "    print(\"Accuracy on test set: {}\".format(net.evaluate(X_valid, y_valid, accuracy)))\n",
    "    accuracies.append(net.evaluate(X_valid, y_valid, accuracy))\n",
    "\n",
    "    # Evaluate the network on the valid set, calculate the standard deviation of the accuracy\n",
    "    acc = [net.evaluate(X_valid[i], y_valid[i], accuracy) for i in range(X_valid.shape[0])]\n",
    "    STD = np.std(acc)\n",
    "    print(\"Standard deviation of accuracy on validation set: {}\".format(STD))\n",
    "    accuracies_std.append(STD)"
   ]
  },
  {
   "cell_type": "code",
   "execution_count": 7,
   "metadata": {},
   "outputs": [
    {
     "data": {
      "image/png": "[encoded data removed]",
      "text/plain": [
       "<Figure size 640x480 with 1 Axes>"
      ]
     },
     "metadata": {},
     "output_type": "display_data"
    }
   ],
   "source": [
    "# Plot the average loss over epochs for all folds\n",
    "avg_loss = np.mean(losses, axis=0)\n",
    "plt.plot(range(epochs), avg_loss)\n",
    "plt.xlabel(\"Epochs\")\n",
    "plt.ylabel(\"Average Loss\")\n",
    "plt.title(\"Average Loss over Epochs(Cross Entropy)\")\n",
    "plt.show()"
   ]
  },
  {
   "cell_type": "code",
   "execution_count": 8,
   "metadata": {},
   "outputs": [
    {
     "name": "stdout",
     "output_type": "stream",
     "text": [
      "Accuracy on fold 0 is 0.9963503649635036\n",
      "Accuracy on fold 1 is 1.0\n",
      "Accuracy on fold 2 is 1.0\n",
      "Accuracy on fold 3 is 0.9963503649635036\n",
      "Accuracy on fold 4 is 1.0\n"
     ]
    }
   ],
   "source": [
    "# Print the accuracy for each fold\n",
    "for i in range(k_fold):\n",
    "    print(\"Accuracy on fold {} is {}\".format(i, accuracies[i]))"
   ]
  },
  {
   "cell_type": "code",
   "execution_count": 9,
   "metadata": {},
   "outputs": [
    {
     "name": "stdout",
     "output_type": "stream",
     "text": [
      "Total accuracy is 0.9985401459854014\n"
     ]
    }
   ],
   "source": [
    "# Calculate the total accuracy\n",
    "total_accuracy = np.mean(accuracies)\n",
    "print(\"Total accuracy is {}\".format(total_accuracy))"
   ]
  },
  {
   "cell_type": "code",
   "execution_count": 10,
   "metadata": {},
   "outputs": [
    {
     "name": "stdout",
     "output_type": "stream",
     "text": [
      "Standard deviation of accuracy is 0.001787948717360009\n"
     ]
    }
   ],
   "source": [
    "# Calculate the standard deviation of the 5 experiments\n",
    "total_std = np.std(accuracies)\n",
    "print(\"Standard deviation of accuracy is {}\".format(total_std))"
   ]
  },
  {
   "cell_type": "code",
   "execution_count": 11,
   "metadata": {},
   "outputs": [
    {
     "name": "stdout",
     "output_type": "stream",
     "text": [
      "Standard deviation of accuracy on fold 0 is 0.0603018673060522\n",
      "Standard deviation of accuracy on fold 1 is 0.0\n",
      "Standard deviation of accuracy on fold 2 is 0.0\n",
      "Standard deviation of accuracy on fold 3 is 0.060301867306052206\n",
      "Standard deviation of accuracy on fold 4 is 0.0\n"
     ]
    }
   ],
   "source": [
    "# Print the standard deviation of the accuracy for each fold\n",
    "for i in range(k_fold):\n",
    "    print(\"Standard deviation of accuracy on fold {} is {}\".format(i, accuracies_std[i]))"
   ]
  },
  {
   "cell_type": "code",
   "execution_count": 12,
   "metadata": {},
   "outputs": [
    {
     "name": "stdout",
     "output_type": "stream",
     "text": [
      "[[2.67399630e-05]\n",
      " [1.74059826e-02]\n",
      " [9.49168994e-01]\n",
      " [9.99981810e-01]\n",
      " [9.57513935e-01]\n",
      " [9.88665498e-01]\n",
      " [2.17313235e-05]\n",
      " [1.01626934e-04]\n",
      " [9.97113446e-01]\n",
      " [9.98879832e-01]\n",
      " [9.90931504e-01]\n",
      " [9.93130426e-01]\n",
      " [1.88244699e-04]\n",
      " [9.99906368e-01]\n",
      " [9.99696789e-01]\n",
      " [9.84069311e-01]\n",
      " [7.45925018e-01]\n",
      " [1.99585903e-05]\n",
      " [9.99927853e-01]\n",
      " [9.58944687e-01]\n",
      " [9.89226342e-06]\n",
      " [9.90867066e-01]\n",
      " [2.64918786e-02]\n",
      " [9.99924275e-01]\n",
      " [8.05504178e-01]\n",
      " [1.28025543e-04]\n",
      " [9.96741691e-01]\n",
      " [3.74914052e-04]\n",
      " [1.84408258e-04]\n",
      " [1.50764880e-01]\n",
      " [9.99955770e-01]\n",
      " [9.99929652e-01]\n",
      " [9.81838102e-01]\n",
      " [7.47567822e-01]\n",
      " [9.94348963e-01]\n",
      " [1.90625822e-05]\n",
      " [1.75951903e-01]\n",
      " [9.89426027e-01]\n",
      " [1.43286704e-04]\n",
      " [8.13574083e-02]\n",
      " [9.93498328e-01]\n",
      " [2.96313713e-06]\n",
      " [3.22879724e-04]\n",
      " [7.16927810e-05]\n",
      " [5.97330081e-05]\n",
      " [9.99231243e-01]\n",
      " [4.24468127e-04]\n",
      " [1.42865033e-05]\n",
      " [9.81842843e-01]\n",
      " [3.37828703e-05]\n",
      " [9.99974964e-01]\n",
      " [9.89025672e-01]\n",
      " [9.30810959e-01]\n",
      " [8.04226045e-05]\n",
      " [3.93665604e-04]\n",
      " [9.82124084e-01]\n",
      " [9.60520193e-01]\n",
      " [2.05294560e-06]\n",
      " [5.51638182e-03]\n",
      " [5.12958794e-04]\n",
      " [9.98599404e-01]\n",
      " [1.18126167e-04]\n",
      " [3.25305534e-04]\n",
      " [9.30133879e-01]\n",
      " [1.29814055e-04]\n",
      " [8.06238317e-05]\n",
      " [2.81165319e-05]\n",
      " [1.17469224e-04]\n",
      " [9.91702520e-01]\n",
      " [9.93589550e-01]\n",
      " [7.02275092e-04]\n",
      " [3.28916164e-05]\n",
      " [3.46060209e-04]\n",
      " [9.45478460e-01]\n",
      " [9.98746855e-01]\n",
      " [6.30830053e-06]\n",
      " [9.99969971e-01]\n",
      " [7.62763518e-04]\n",
      " [9.16693554e-05]\n",
      " [6.00585787e-04]\n",
      " [9.97138476e-01]\n",
      " [9.79057321e-01]\n",
      " [9.99936562e-01]\n",
      " [8.80321962e-01]\n",
      " [2.09682365e-04]\n",
      " [3.78186672e-05]\n",
      " [9.98274839e-01]\n",
      " [3.50270638e-03]\n",
      " [1.72257031e-04]\n",
      " [9.75937684e-01]\n",
      " [9.75364916e-01]\n",
      " [9.99759120e-01]\n",
      " [2.92859001e-03]\n",
      " [9.99933604e-01]\n",
      " [9.90413339e-01]\n",
      " [9.97205070e-01]\n",
      " [4.24940457e-03]\n",
      " [8.21449443e-01]\n",
      " [9.29330554e-01]\n",
      " [2.86145991e-03]\n",
      " [2.58096503e-04]\n",
      " [8.98128748e-01]\n",
      " [9.95100234e-01]\n",
      " [3.03989172e-05]\n",
      " [3.04381910e-05]\n",
      " [9.97094563e-01]\n",
      " [1.72038477e-06]\n",
      " [2.23329518e-04]\n",
      " [4.94338664e-04]\n",
      " [9.94654226e-01]\n",
      " [9.98065730e-01]\n",
      " [9.97611661e-01]\n",
      " [1.31858607e-04]\n",
      " [6.51296705e-05]\n",
      " [9.97848686e-01]\n",
      " [3.25864312e-04]\n",
      " [7.15157693e-05]\n",
      " [5.26961101e-04]\n",
      " [5.06677830e-04]\n",
      " [5.65742818e-05]\n",
      " [9.71292388e-04]\n",
      " [4.25954673e-04]\n",
      " [9.87086819e-01]\n",
      " [5.50083886e-05]\n",
      " [9.99961056e-01]\n",
      " [9.77819952e-01]\n",
      " [9.12425639e-01]\n",
      " [9.98814553e-06]\n",
      " [9.98858429e-01]\n",
      " [2.01920597e-05]\n",
      " [9.99965668e-01]\n",
      " [2.46491582e-04]\n",
      " [3.82485674e-02]\n",
      " [8.04262904e-04]\n",
      " [1.98750830e-04]\n",
      " [8.74957881e-04]\n",
      " [1.22002723e-02]\n",
      " [9.99079085e-01]\n",
      " [9.97183504e-01]\n",
      " [1.53765525e-05]\n",
      " [1.66882777e-04]\n",
      " [4.86651165e-06]\n",
      " [1.76601305e-04]\n",
      " [2.62391254e-05]\n",
      " [1.68267504e-04]\n",
      " [9.99638050e-01]\n",
      " [2.63723285e-03]\n",
      " [4.17292077e-06]\n",
      " [6.41082981e-05]\n",
      " [9.80718282e-01]\n",
      " [2.82213515e-05]\n",
      " [7.35893622e-06]\n",
      " [5.76211269e-04]\n",
      " [9.94592521e-01]\n",
      " [9.68477376e-01]\n",
      " [9.95408374e-01]\n",
      " [2.93710734e-05]\n",
      " [2.18843827e-04]\n",
      " [9.99988598e-01]\n",
      " [2.04856056e-04]\n",
      " [2.61789883e-04]\n",
      " [9.07501811e-01]\n",
      " [9.91287916e-01]\n",
      " [1.93743979e-04]\n",
      " [9.77825430e-01]\n",
      " [1.25006130e-02]\n",
      " [7.47041747e-06]\n",
      " [9.98229674e-01]\n",
      " [2.77831257e-06]\n",
      " [9.89132463e-01]\n",
      " [2.79552617e-05]\n",
      " [2.31224384e-05]\n",
      " [2.52248513e-04]\n",
      " [3.90751867e-04]\n",
      " [4.50093642e-06]\n",
      " [3.50347407e-05]\n",
      " [6.46702363e-06]\n",
      " [9.54526791e-01]\n",
      " [9.98969858e-01]\n",
      " [1.72750380e-04]\n",
      " [2.71515092e-06]\n",
      " [9.35648997e-05]\n",
      " [5.18091785e-05]\n",
      " [2.59370688e-06]\n",
      " [9.20257447e-06]\n",
      " [5.75093071e-05]\n",
      " [9.99856541e-01]\n",
      " [9.99663594e-01]\n",
      " [9.46290628e-01]\n",
      " [9.99959788e-01]\n",
      " [1.75120503e-04]\n",
      " [1.58230821e-04]\n",
      " [9.98898714e-01]\n",
      " [9.99777786e-01]\n",
      " [9.96264052e-01]\n",
      " [9.99919754e-01]\n",
      " [8.40330993e-01]\n",
      " [7.71006420e-05]\n",
      " [8.02933949e-01]\n",
      " [9.26540736e-01]\n",
      " [9.99518075e-01]\n",
      " [8.12293956e-06]\n",
      " [9.97942507e-01]\n",
      " [2.22055832e-04]\n",
      " [2.31660292e-05]\n",
      " [1.68053531e-05]\n",
      " [8.08453600e-04]\n",
      " [7.70380801e-05]\n",
      " [4.62215917e-06]\n",
      " [1.35258200e-04]\n",
      " [2.46391827e-05]\n",
      " [9.95893132e-01]\n",
      " [9.99946824e-01]\n",
      " [2.29481127e-05]\n",
      " [9.55256846e-01]\n",
      " [9.05538544e-01]\n",
      " [9.99606511e-01]\n",
      " [1.67367757e-05]\n",
      " [2.43901078e-05]\n",
      " [4.85564087e-05]\n",
      " [9.92341426e-01]\n",
      " [9.99797518e-01]\n",
      " [1.37300866e-04]\n",
      " [3.45600454e-04]\n",
      " [3.82485674e-02]\n",
      " [5.43493098e-02]\n",
      " [3.42623434e-05]\n",
      " [8.55736515e-01]\n",
      " [1.15604036e-01]\n",
      " [9.65952832e-01]\n",
      " [2.05406819e-04]\n",
      " [1.93873438e-05]\n",
      " [1.24516644e-04]\n",
      " [1.19825402e-04]\n",
      " [1.74453177e-05]\n",
      " [9.99826550e-01]\n",
      " [9.73706000e-02]\n",
      " [9.74878337e-01]\n",
      " [9.99224731e-01]\n",
      " [3.85176445e-04]\n",
      " [1.50764880e-01]\n",
      " [1.11675308e-04]\n",
      " [9.97796281e-01]\n",
      " [2.44995654e-03]\n",
      " [9.92381361e-01]\n",
      " [9.97512368e-01]\n",
      " [9.86788881e-01]\n",
      " [5.56429599e-04]\n",
      " [6.18330830e-06]\n",
      " [9.77650570e-06]\n",
      " [3.24224025e-05]\n",
      " [1.24765857e-01]\n",
      " [9.93081413e-01]\n",
      " [4.73443020e-04]\n",
      " [3.27200377e-04]\n",
      " [9.86098147e-01]\n",
      " [9.96389247e-01]\n",
      " [9.99899744e-01]\n",
      " [9.67270212e-01]\n",
      " [9.95262658e-01]\n",
      " [9.93571586e-01]\n",
      " [9.99906621e-01]\n",
      " [8.73016089e-01]\n",
      " [6.97413201e-05]\n",
      " [1.31867287e-01]\n",
      " [9.97255580e-01]\n",
      " [1.01665079e-02]\n",
      " [6.84609437e-05]\n",
      " [2.07766965e-03]\n",
      " [1.48281080e-04]\n",
      " [1.88703673e-05]\n",
      " [8.32936374e-01]\n",
      " [6.96114160e-06]\n",
      " [9.99956050e-01]]\n"
     ]
    }
   ],
   "source": [
    "# print the result of the validation set 2\n",
    "print(valid_results[1])"
   ]
  },
  {
   "cell_type": "code",
   "execution_count": 13,
   "metadata": {},
   "outputs": [
    {
     "name": "stdout",
     "output_type": "stream",
     "text": [
      "121\n"
     ]
    }
   ],
   "source": [
    "# Calculate how much in the validation set 2 is predicted as 1\n",
    "print(np.sum(valid_results[1] > 0.5))"
   ]
  }
 ],
 "metadata": {
  "kernelspec": {
   "display_name": "Python 3",
   "language": "python",
   "name": "python3"
  },
  "language_info": {
   "codemirror_mode": {
    "name": "ipython",
    "version": 3
   },
   "file_extension": ".py",
   "mimetype": "text/x-python",
   "name": "python",
   "nbconvert_exporter": "python",
   "pygments_lexer": "ipython3",
   "version": "3.8.10"
  },
  "orig_nbformat": 4
 },
 "nbformat": 4,
 "nbformat_minor": 2
}
